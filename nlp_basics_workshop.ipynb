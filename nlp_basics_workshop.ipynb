{
 "cells": [
  {
   "cell_type": "markdown",
   "metadata": {},
   "source": [
    "## NLP Workshop\n",
    "\n",
    "**Author:** Clare Corthell, [Luminant Data](http://luminantdata.com)\n",
    "\n",
    "**Conference**: [Talking Machines](http://talkingmachin.es/events), Manila\n",
    "\n",
    "**Date:** 18 February 2016\n",
    "\n",
    "**Description:** Much of human knowledge is “locked up” in a type of data called text. Humans are great at reading, but are computers? This workshop leads you through open source data science libraries in python that turn text into valuable data, then tours an open source system built for the Wordnik dictionary to source definitions of words from across the internet.\n",
    "\n",
    "**Goal**: Learn the basics of text manipulation and analytics with open sources tools in python.\n",
    "\n",
    "------------------------"
   ]
  },
  {
   "cell_type": "markdown",
   "metadata": {},
   "source": [
    "### Requirements\n",
    "\n",
    "There are many great libraries and programmatic resources out there in languages other than python. For the purposes of a contained intro, I'll focus soley on Python today.\n",
    "\n",
    "- [Python 2.7 Environment](http://www.thisisthegreenroom.com/2011/installing-python-numpy-scipy-matplotlib-and-ipython-on-lion/)\n",
    "- [Anaconda](https://www.continuum.io/downloads), which includes 400 popular python packages\n",
    "- [TextBlob](http://textblob.readthedocs.org/en/dev/install.html) (python library)\n",
    "\n",
    "Give yourself a good chunk of time to troubleshoot installation if you're doing this for the first time. These resources are available for most platforms, including OSX and Windows."
   ]
  },
  {
   "cell_type": "markdown",
   "metadata": {},
   "source": [
    "#### Learning Resources\n",
    "\n",
    "- NLTK [Online Book](http://www.nltk.org/book/)"
   ]
  },
  {
   "cell_type": "markdown",
   "metadata": {},
   "source": [
    "### Setup\n",
    "\n",
    "Go to the root of this repository\n",
    "\n",
    "`cd < root directory >`\n",
    "\n",
    "run the notebook\n",
    "\n",
    "`ipython notebook`"
   ]
  },
  {
   "cell_type": "code",
   "execution_count": 153,
   "metadata": {
    "collapsed": false
   },
   "outputs": [
    {
     "data": {
      "text/plain": [
       "u'/Users/clareputer/Documents/summer/nlp_workshop'"
      ]
     },
     "execution_count": 153,
     "metadata": {},
     "output_type": "execute_result"
    }
   ],
   "source": [
    "%pwd \n",
    "# make sure we're running our script from the right place; \n",
    "# imports like \"filename\" are relative to where we're running ipython"
   ]
  },
  {
   "cell_type": "markdown",
   "metadata": {},
   "source": [
    "### Load A Text Dataset"
   ]
  },
  {
   "cell_type": "markdown",
   "metadata": {},
   "source": [
    "Collection of TED talk transcripts from the ted.com website:\n",
    "\n",
    "<img href=\"http://ted.com\" src=\"assets/tedtranscript.png\">"
   ]
  },
  {
   "cell_type": "code",
   "execution_count": 154,
   "metadata": {
    "collapsed": true
   },
   "outputs": [],
   "source": [
    "# file of half of history of ted talks from (http://ted.com)\n",
    "# i've already preprocessed this in an easy-to-consume .csv file\n",
    "filename = 'data/tedtalks.csv'"
   ]
  },
  {
   "cell_type": "markdown",
   "metadata": {},
   "source": [
    "#### Storage and File types for text\n",
    "\n",
    "Common text file types for text include **.json .csv .txt**. \n",
    "\n",
    "It is also common to store text with other data in **relational databases** or indexes."
   ]
  },
  {
   "cell_type": "code",
   "execution_count": 155,
   "metadata": {
    "collapsed": true
   },
   "outputs": [],
   "source": [
    "# pandas, a handy and powerful data manipulation library\n",
    "import pandas as pd"
   ]
  },
  {
   "cell_type": "code",
   "execution_count": 156,
   "metadata": {
    "collapsed": false
   },
   "outputs": [],
   "source": [
    "# this file has a header that includes column names\n",
    "df = pd.DataFrame.from_csv(filename, encoding='utf8')"
   ]
  },
  {
   "cell_type": "markdown",
   "metadata": {},
   "source": [
    "The pandas data structure **DataFrame** is like a spreadsheet. \n",
    "\n",
    "It's easy to select columns, records, or data points. There are a multitude of handy features in this library for manipulating data."
   ]
  },
  {
   "cell_type": "code",
   "execution_count": 157,
   "metadata": {
    "collapsed": false
   },
   "outputs": [
    {
     "data": {
      "text/html": [
       "<div style=\"max-height:1000px;max-width:1500px;overflow:auto;\">\n",
       "<table border=\"1\" class=\"dataframe\">\n",
       "  <thead>\n",
       "    <tr style=\"text-align: right;\">\n",
       "      <th></th>\n",
       "      <th>date</th>\n",
       "      <th>headline</th>\n",
       "      <th>speaker</th>\n",
       "      <th>transcript</th>\n",
       "      <th>url</th>\n",
       "    </tr>\n",
       "  </thead>\n",
       "  <tbody>\n",
       "    <tr>\n",
       "      <th>0</th>\n",
       "      <td> 2014-10-21 00:00:00</td>\n",
       "      <td>   A dance in a hurricane of paper, wind and light</td>\n",
       "      <td>   Aakash Odedra</td>\n",
       "      <td>                                (Music) (Applause)</td>\n",
       "      <td> http://www.ted.com/talks/aakash_odedra_a_dance...</td>\n",
       "    </tr>\n",
       "    <tr>\n",
       "      <th>1</th>\n",
       "      <td> 2010-09-19 00:00:00</td>\n",
       "      <td>                 America's native prisoners of war</td>\n",
       "      <td>      Aaron Huey</td>\n",
       "      <td>  I'm here today to show my photographs of the ...</td>\n",
       "      <td>               http://www.ted.com/talks/aaron_huey</td>\n",
       "    </tr>\n",
       "    <tr>\n",
       "      <th>2</th>\n",
       "      <td> 2011-03-02 00:00:00</td>\n",
       "      <td> Visualizing ourselves ... with crowd-sourced data</td>\n",
       "      <td>    Aaron Koblin</td>\n",
       "      <td>  So I think data can actually make us more hum...</td>\n",
       "      <td>             http://www.ted.com/talks/aaron_koblin</td>\n",
       "    </tr>\n",
       "    <tr>\n",
       "      <th>3</th>\n",
       "      <td> 2011-03-02 00:00:00</td>\n",
       "      <td>          Making sense of a visible quantum object</td>\n",
       "      <td> Aaron O'Connell</td>\n",
       "      <td>  This is a representation of your brain, and y...</td>\n",
       "      <td> http://www.ted.com/talks/aaron_o_connell_makin...</td>\n",
       "    </tr>\n",
       "  </tbody>\n",
       "</table>\n",
       "</div>"
      ],
      "text/plain": [
       "                  date                                           headline  \\\n",
       "0  2014-10-21 00:00:00    A dance in a hurricane of paper, wind and light   \n",
       "1  2010-09-19 00:00:00                  America's native prisoners of war   \n",
       "2  2011-03-02 00:00:00  Visualizing ourselves ... with crowd-sourced data   \n",
       "3  2011-03-02 00:00:00           Making sense of a visible quantum object   \n",
       "\n",
       "           speaker                                         transcript  \\\n",
       "0    Aakash Odedra                                 (Music) (Applause)   \n",
       "1       Aaron Huey   I'm here today to show my photographs of the ...   \n",
       "2     Aaron Koblin   So I think data can actually make us more hum...   \n",
       "3  Aaron O'Connell   This is a representation of your brain, and y...   \n",
       "\n",
       "                                                 url  \n",
       "0  http://www.ted.com/talks/aakash_odedra_a_dance...  \n",
       "1                http://www.ted.com/talks/aaron_huey  \n",
       "2              http://www.ted.com/talks/aaron_koblin  \n",
       "3  http://www.ted.com/talks/aaron_o_connell_makin...  "
      ]
     },
     "execution_count": 157,
     "metadata": {},
     "output_type": "execute_result"
    }
   ],
   "source": [
    "# look at a slice (sub-selection of records) of the first four records\n",
    "df[:4]"
   ]
  },
  {
   "cell_type": "code",
   "execution_count": 158,
   "metadata": {
    "collapsed": false
   },
   "outputs": [
    {
     "data": {
      "text/plain": [
       "0      A dance in a hurricane of paper, wind and light\n",
       "1                    America's native prisoners of war\n",
       "2    Visualizing ourselves ... with crowd-sourced data\n",
       "3             Making sense of a visible quantum object\n",
       "Name: headline, dtype: object"
      ]
     },
     "execution_count": 158,
     "metadata": {},
     "output_type": "execute_result"
    }
   ],
   "source": [
    "# look at a slice of one column\n",
    "df['headline'][:4]"
   ]
  },
  {
   "cell_type": "code",
   "execution_count": 159,
   "metadata": {
    "collapsed": false
   },
   "outputs": [
    {
     "data": {
      "text/plain": [
       "u'Visualizing ourselves ... with crowd-sourced data'"
      ]
     },
     "execution_count": 159,
     "metadata": {},
     "output_type": "execute_result"
    }
   ],
   "source": [
    "# select one data point\n",
    "df['headline'][2]"
   ]
  },
  {
   "cell_type": "markdown",
   "metadata": {},
   "source": [
    "## The Basics\n",
    "\n",
    "We're going to use **[TextBlob](http://textblob.readthedocs.org/en/dev/quickstart.html)** to manipulate our text data. It wraps a number of handy text manipulation tools like [NLTK](http://www.nltk.org/) and [pattern](http://www.clips.ua.ac.be/pages/pattern-en), making those easy to use under one library."
   ]
  },
  {
   "cell_type": "markdown",
   "metadata": {},
   "source": [
    "### Method and Python Package\n",
    "\n",
    "We'll walk though all these methods by **posing questions of the data.** I'll number them for easy reference."
   ]
  },
  {
   "cell_type": "markdown",
   "metadata": {},
   "source": [
    "### Back to Background\n",
    "\n",
    "**Linguistics**, or the scientific study of language, plays a large role in how we build methods to understand text.\n",
    "\n",
    "**Computational Linguistics** is \"field concerned with the statistical or rule-based modeling of natural language from a computational perspective.\" - [wp](https://en.wikipedia.org/wiki/Computational_linguistics)"
   ]
  },
  {
   "cell_type": "markdown",
   "metadata": {},
   "source": [
    "# 1. Intuition for Text Analysis"
   ]
  },
  {
   "cell_type": "code",
   "execution_count": 160,
   "metadata": {
    "collapsed": false
   },
   "outputs": [],
   "source": [
    "from textblob import TextBlob"
   ]
  },
  {
   "cell_type": "code",
   "execution_count": 330,
   "metadata": {
    "collapsed": false
   },
   "outputs": [
    {
     "name": "stdout",
     "output_type": "stream",
     "text": [
      "Reading the transcript for 'Three myths about corruption'\n"
     ]
    }
   ],
   "source": [
    "# create a textblob object with one transcript\n",
    "t = TextBlob(df['transcript'][18])\n",
    "print \"Reading the transcript for '%s'\" % df['headline'][18]"
   ]
  },
  {
   "cell_type": "markdown",
   "metadata": {},
   "source": [
    "From the TextBlob object, we can get things like:\n",
    "- **Frequency Analysis**\n",
    "- **Noun Phrases**\n",
    "- **Part-of-Speech Tags**\n",
    "- **Tokenization**\n",
    "- **Parsing**\n",
    "- **Sentiment Polarity**\n",
    "- **Word inflection**\n",
    "- **Spelling correction**\n",
    "\n",
    "Using the questions we pose, we'll motivate using these methods and explain them throughout this workshop."
   ]
  },
  {
   "cell_type": "markdown",
   "metadata": {},
   "source": [
    "### Q1. What is this text about?\n",
    "\n",
    "There are many ways we could think about answering this question, but the first might be to look at the topics that the text describes.\n",
    "\n",
    "Let's look at a sentence in the middle:"
   ]
  },
  {
   "cell_type": "code",
   "execution_count": 163,
   "metadata": {
    "collapsed": false
   },
   "outputs": [
    {
     "data": {
      "text/plain": [
       "Sentence(\"We're coming out today from Trinidad and Tobago, a resource-rich, small Caribbean country, and in the early 1970s we had a massive increase in the country's wealth, and that increase was caused by the increase in world oil prices.\")"
      ]
     },
     "execution_count": 163,
     "metadata": {},
     "output_type": "execute_result"
    }
   ],
   "source": [
    "t.sentences[21]"
   ]
  },
  {
   "cell_type": "markdown",
   "metadata": {},
   "source": [
    "So we might say this sentence is about..."
   ]
  },
  {
   "cell_type": "code",
   "execution_count": 164,
   "metadata": {
    "collapsed": false
   },
   "outputs": [
    {
     "data": {
      "text/plain": [
       "WordList([u'trinidad', u'tobago', u'caribbean', u'early 1970s', u'massive increase', u\"country 's wealth\", u'world oil prices'])"
      ]
     },
     "execution_count": 164,
     "metadata": {},
     "output_type": "execute_result"
    }
   ],
   "source": [
    "t.sentences[21].noun_phrases"
   ]
  },
  {
   "cell_type": "markdown",
   "metadata": {},
   "source": [
    "These are noun phrases, a useful grammatical lens for extracting topics from text.\n",
    "\n",
    "#### Noun Phrases\n",
    "\n",
    "_\"A noun phrase or nominal phrase (abbreviated NP) is a phrase which has a noun (or indefinite pronoun) as its head word, or which performs the same grammatical function as such a phrase.\"_ - [Wikipedia](https://en.wikipedia.org/wiki/Noun_phrase)\n",
    "\n",
    "Noun Phrases are slightly more inclusive than just nouns, they encompass the whole \"idea\" of the noun, with any modifiers it may have."
   ]
  },
  {
   "cell_type": "markdown",
   "metadata": {},
   "source": [
    "If we do this across the whole transcript, we see roughly what it's about without reading it word-for-word:"
   ]
  },
  {
   "cell_type": "code",
   "execution_count": 165,
   "metadata": {
    "collapsed": false,
    "scrolled": true
   },
   "outputs": [
    {
     "data": {
      "text/plain": [
       "WordList([u'okay', u'okay', u'big myth', u'belmont', u'diego', u'marabella', u'honest truth', u'national security', u'economic crime', u'private corruption', u'private sector', u'massive amount', u'private sector', u'private sector', u'public sector corruption', u'private sector', u'important myth', u'important myth', u'fact corruption', u'small problem', u'small problem', u'dangerous myth', u'public mischief', u'trinidad', u'tobago', u'caribbean', u'early 1970s', u'massive increase', u\"country 's wealth\", u'world oil prices', u\"'s ironic\", u'central bank', u\"history 's\", u'central bank', u'central bank', u'okay', u'public office', u'ministry', u'okay', u'applause', u'government-to-government arrangements', u'government-to-government arrangements', u'britain', u'france', u'twin towers', u'whole situation', u'ballah', u'government-to-government arrangements', u'then-prime minister', u'budget speech', u'young man', u'fact \\u2014', u'pure mischief', u'forget', u'big people', u'okay', u'okay', u'ballah', u'international audience', u'constitutional outrage', u'suspicious piece', u'suspicious piece', u'suspicious time', u'laughter', u'piarco', u'own lexicon', u'piarco', u'constitutional outrage', u'plot', u'pervert', u'financial nature', u'different forms', u'american embassy', u'word lawyers', u'whole course', u'suspicious passage', u'nasty way', u'mass protests', u'okay', u'piarco', u'superior double bluff kind', u'bit mysterious', u'entire project cost', u'trinidad', u'tobago', u'suspicious activity', u'corrupt activity', u'big thing', u'prosecutions', u'offshore bank accounts', u'offshore bank accounts', u'suspicious person', u'different things', u'november', u'wall street', u'zuccotti', u'wall', u'occupy wall', u'street movement', u'simple sign', u'blonde lady', u'bristol', u'well', u'spy novels', u'laughter', u'spy novels', u'laughter', u'construction sector corruption', u'joint consultative', u'new public procurement system', u'public money', u'private campaigns', u'cl financial', u'cl financial', u'caribbean', u'january', u'unprecedented \\u2014', u'lack context', u'wall', u'wall', u'trinidad', u'tobago', u'different laws', u'applause', u'okay', u'listen', u'wall street', u'london', u'europe', u'africa', u'nigeria', u'major commercial banks', u'nigerian', u'nowhere', u'statutory entitlements', u'personal work', u'afraraymond.com', u'not-for-profit blog', u'laughter', u'bitter experience', u'pervert parliament', u'bitter experience', u'august', u'september', u'trinidad', u'tobago', u'okay', u'information', u'may', u'ministry', u'ministry', u'ministry', u'information', u'central bank', u'information', u\"ca n't\", u\"'ll relate\", u'short form', u'cl financial', u\"ca n't show\", u'new laws', u'u.s.', u'caribbean', u'okay', u'clarity understanding', u\"n't matter\", u'information', u'okay', u\"n't dignify\", u'information', u'famous case', u'scholarship scandal', u'government money', u'information', u'fantastic', u'information', u'public money', u'ministry', u'permanent', u'ministry', u'cl financial', u'integrity', u'public life act', u'integrity', u'public life act', u\"nation 's interest\", u'public officials', u'basic safeguards', u\"ca n't\", u\"country 's history\", u'public corruption', u'reality check', u'public money', u'russia', u'nigeria', u'alaska', u'ministry', u'jcc', u'trinidad', u'tobago', u'international example', u'journalist [', u'heather', u'brooke', u'government corruption', u'alaveteli.com', u'alaveteli.com', u'open database', u'information', u'collective database', u'collective understanding', u'final thing', u'lovely website', u'india', u'ipaidabribe.com', u'international branches', u'ipaidabribe.com', u'discard', u'discard', u'big thing', u'huge problem', u'economic crime', u'thank'])"
      ]
     },
     "execution_count": 165,
     "metadata": {},
     "output_type": "execute_result"
    }
   ],
   "source": [
    "t.noun_phrases"
   ]
  },
  {
   "cell_type": "markdown",
   "metadata": {},
   "source": [
    "If we pick a few random topics from the talk, maybe we can generalize about what it's about:"
   ]
  },
  {
   "cell_type": "code",
   "execution_count": 167,
   "metadata": {
    "collapsed": false
   },
   "outputs": [
    {
     "name": "stdout",
     "output_type": "stream",
     "text": [
      "This text might be about: \n",
      "september, and joint consultative, and alaveteli.com, and caribbean, and nowhere\n"
     ]
    }
   ],
   "source": [
    "import random\n",
    "\n",
    "rand_nps = random.sample(list(t.noun_phrases),  5)\n",
    "print \"This text might be about: \\n%s\" % ', and '.join(rand_nps)"
   ]
  },
  {
   "cell_type": "markdown",
   "metadata": {},
   "source": [
    "The computer can't read and summarize on our behalf yet - but so far it's interesting!"
   ]
  },
  {
   "cell_type": "markdown",
   "metadata": {},
   "source": [
    "Alternatively, we can look at noun phrases that occur more than twice -"
   ]
  },
  {
   "cell_type": "code",
   "execution_count": 168,
   "metadata": {
    "collapsed": false,
    "scrolled": true
   },
   "outputs": [
    {
     "data": {
      "text/plain": [
       "[(u'cl financial', 4),\n",
       " (u'caribbean', 3),\n",
       " (u'tobago', 5),\n",
       " (u'government-to-government arrangements', 3),\n",
       " (u'ministry', 7),\n",
       " (u'wall', 3),\n",
       " (u'trinidad', 5),\n",
       " (u'piarco', 3),\n",
       " (u'central bank', 4),\n",
       " (u'laughter', 4),\n",
       " (u'private sector', 4),\n",
       " (u'public money', 3),\n",
       " (u'okay', 11),\n",
       " (u'information', 8)]"
      ]
     },
     "execution_count": 168,
     "metadata": {},
     "output_type": "execute_result"
    }
   ],
   "source": [
    "np_cnt = t.np_counts\n",
    "[(n, np_cnt[n]) for n in np_cnt if np_cnt[n] > 2] # pythonic list comprehension"
   ]
  },
  {
   "cell_type": "markdown",
   "metadata": {},
   "source": [
    "### What are _all_ the texts about?\n",
    "\n",
    "It's interesting to look at one text, but looking at what's going on across these TED talks may be more interesting. We care about **similarities** and **differences** among aggregates."
   ]
  },
  {
   "cell_type": "code",
   "execution_count": 228,
   "metadata": {
    "collapsed": true
   },
   "outputs": [],
   "source": [
    "# get texblobs and noun phrase counts for everything -- this takes a while\n",
    "blobs = [TextBlob(b).np_counts for b in df['transcript']]"
   ]
  },
  {
   "cell_type": "code",
   "execution_count": 230,
   "metadata": {
    "collapsed": false
   },
   "outputs": [
    {
     "data": {
      "text/plain": [
       "[defaultdict(int,\n",
       "             {u\"'d look sweet\": 1,\n",
       "              u\"'ll look sweet\": 1,\n",
       "              u\"'ll pay\": 1,\n",
       "              u\"'re hearing\": 1,\n",
       "              u\"'s data\": 1,\n",
       "              u\"'s head\": 1,\n",
       "              u\"'s music\": 1,\n",
       "              u\"'s relationship\": 1,\n",
       "              u'... \\u266b': 1,\n",
       "              u'20th century culture': 1,\n",
       "              u'24-hour offset': 1,\n",
       "              u'24-hour period': 1,\n",
       "              u'3d space': 1,\n",
       "              u'aaron koblin': 1,\n",
       "              u'abstract': 1,\n",
       "              u'abstract version': 1,\n",
       "              u'ai': 3,\n",
       "              u\"ai n't\": 2,\n",
       "              u'air traffic controllers': 1,\n",
       "              u'airplane traffic': 1,\n",
       "              u'ak': 5,\n",
       "              u'amazing interfaces': 1,\n",
       "              u'amazing robot': 1,\n",
       "              u'amazing stories': 2,\n",
       "              u'amazing stuff': 1,\n",
       "              u'amazing things': 1,\n",
       "              u'amazon': 1,\n",
       "              u'america': 1,\n",
       "              u'amsterdam': 1,\n",
       "              u'applause': 2,\n",
       "              u'approximate': 1,\n",
       "              u'arcade': 1,\n",
       "              u'archival footage': 1,\n",
       "              u'arizona': 1,\n",
       "              u'art': 1,\n",
       "              u\"artist 's name\": 1,\n",
       "              u'at': 1,\n",
       "              u'atlanta': 1,\n",
       "              u'back burner': 1,\n",
       "              u'bad things': 1,\n",
       "              u'baron wolfgang': 1,\n",
       "              u'beautiful stipple renderings': 1,\n",
       "              u'bell labs': 1,\n",
       "              u'bicycle built': 1,\n",
       "              u'bicyclebuiltfortwothousand.com': 1,\n",
       "              u'big low-traffic zones': 1,\n",
       "              u'body ... \\u266b': 1,\n",
       "              u\"ca n't\": 5,\n",
       "              u'carriage \\u266b \\u266b': 2,\n",
       "              u'century culture': 1,\n",
       "              u'certain things': 1,\n",
       "              u'charlie chaplin': 2,\n",
       "              u'chess player': 1,\n",
       "              u'chorus': 1,\n",
       "              u'chris': 1,\n",
       "              u'chris milk': 2,\n",
       "              u'coast planes': 1,\n",
       "              u'collaborative memorial': 1,\n",
       "              u'collaborative music video project': 1,\n",
       "              u'collaborative project': 1,\n",
       "              u'collaborator': 6,\n",
       "              u'collection rate': 1,\n",
       "              u'couple years': 1,\n",
       "              u'crazy \\u266b \\u266b': 2,\n",
       "              u'creative process': 1,\n",
       "              u'creative toil': 1,\n",
       "              u'currentcity.org': 1,\n",
       "              u'daily ebb': 1,\n",
       "              u'daisy': 6,\n",
       "              u'daisy bell': 2,\n",
       "              u'daniel massey': 1,\n",
       "              u'demographic info': 1,\n",
       "              u'different airports': 1,\n",
       "              u'different contributions': 1,\n",
       "              u'different parts': 3,\n",
       "              u'different patterns': 1,\n",
       "              u'different perimeters': 1,\n",
       "              u'different phases': 1,\n",
       "              u'different sheep': 1,\n",
       "              u'different styles': 1,\n",
       "              u'different types': 1,\n",
       "              u'different ways': 1,\n",
       "              u'dollar bill': 1,\n",
       "              u'dollar bills': 1,\n",
       "              u'drawing tool': 2,\n",
       "              u'draws sheep': 1,\n",
       "              u'elastic mind': 1,\n",
       "              u'embedded network sensing': 1,\n",
       "              u'entire thing': 1,\n",
       "              u'european flights': 1,\n",
       "              u'fake hundred-dollar bills': 1,\n",
       "              u'favorite bands': 1,\n",
       "              u'favorite parts': 1,\n",
       "              u'federal government': 1,\n",
       "              u'final album': 1,\n",
       "              u'flash': 1,\n",
       "              u'flips directions': 1,\n",
       "              u'florida': 1,\n",
       "              u'followed': 1,\n",
       "              u'good friend': 1,\n",
       "              u'good things': 1,\n",
       "              u'google': 1,\n",
       "              u'google code': 1,\n",
       "              u'google maps': 1,\n",
       "              u'grad school': 1,\n",
       "              u'grave': 1,\n",
       "              u'grave \\u266b \\u266b': 3,\n",
       "              u'great stories': 1,\n",
       "              u'ground \\u266b \\u266b': 1,\n",
       "              u'hal': 1,\n",
       "              u'happy': 1,\n",
       "              u'hawaii': 1,\n",
       "              u'honk': 1,\n",
       "              u'hope': 2,\n",
       "              u'html5': 1,\n",
       "              u'humanity versus': 1,\n",
       "              u'hundred': 1,\n",
       "              u'individual airports': 1,\n",
       "              u'individual contributions': 1,\n",
       "              u'individual frame': 1,\n",
       "              u'individual frames': 1,\n",
       "              u'individual pieces': 1,\n",
       "              u'individual sheep': 1,\n",
       "              u'individual thumbnail': 1,\n",
       "              u'individual thumbnails': 1,\n",
       "              u'information panel': 1,\n",
       "              u'interactive tool': 1,\n",
       "              u'interesting clip': 1,\n",
       "              u'interesting content': 1,\n",
       "              u'international cities': 1,\n",
       "              u'international communications': 1,\n",
       "              u'ip': 1,\n",
       "              u'james frost': 1,\n",
       "              u'james surowieki': 1,\n",
       "              u'japan': 1,\n",
       "              u'javascript': 1,\n",
       "              u'john kelly': 1,\n",
       "              u'johnny cash': 5,\n",
       "              u'johnny cash project': 1,\n",
       "              u'johnnycashproject.com': 1,\n",
       "              u'kempelen': 1,\n",
       "              u'kind': 1,\n",
       "              u'knoxville': 1,\n",
       "              u'l.a.': 2,\n",
       "              u'laptop per child': 1,\n",
       "              u'laptop project': 1,\n",
       "              u'laughter': 4,\n",
       "              u'left side': 1,\n",
       "              u'left-hand corner': 1,\n",
       "              u'legless man': 1,\n",
       "              u'lego thom yorke': 1,\n",
       "              u'live feed': 1,\n",
       "              u'live globe': 1,\n",
       "              u'long beach': 1,\n",
       "              u'long time': 1,\n",
       "              u'los angeles': 2,\n",
       "              u'lots': 1,\n",
       "              u'major airports': 1,\n",
       "              u'major changes': 1,\n",
       "              u'max mathews': 1,\n",
       "              u'mechanical chess': 1,\n",
       "              u'mechanical process': 1,\n",
       "              u'mechanical turk': 6,\n",
       "              u'mit': 1,\n",
       "              u'modern web browsers': 1,\n",
       "              u'mr.': 1,\n",
       "              u'music video': 6,\n",
       "              u'music video director': 1,\n",
       "              u\"n't meet\": 1,\n",
       "              u\"narrator 's\": 1,\n",
       "              u'nerdy side': 2,\n",
       "              u'nevada': 1,\n",
       "              u'new year': 1,\n",
       "              u\"new year 's eve\": 1,\n",
       "              u'noise': 1,\n",
       "              u'obviously': 1,\n",
       "              u'odyssey': 1,\n",
       "              u'online music video': 1,\n",
       "              u'ooh': 3,\n",
       "              u'original frame': 1,\n",
       "              u'own address': 1,\n",
       "              u'own interpretation': 1,\n",
       "              u'own versions': 1,\n",
       "              u'own voice': 1,\n",
       "              u'pain \\u266b \\u266b': 1,\n",
       "              u'patterns': 1,\n",
       "              u\"people 's minds\": 1,\n",
       "              u\"people 's shoes\": 1,\n",
       "              u'perfect project': 1,\n",
       "              u\"person 's life\": 1,\n",
       "              u'personal contribution': 1,\n",
       "              u'petit': 1,\n",
       "              u'plate block': 1,\n",
       "              u'pointillist version': 1,\n",
       "              u'powerful feeling': 1,\n",
       "              u'powerful narrative device': 1,\n",
       "              u'pretty valid question': 1,\n",
       "              u'production traits': 1,\n",
       "              u\"queen 's day\": 1,\n",
       "              u'radiohead': 1,\n",
       "              u'real hundred-dollar bills': 1,\n",
       "              u'realistic version': 1,\n",
       "              u'realistic versions': 1,\n",
       "              u'really': 1,\n",
       "              u'recently': 1,\n",
       "              u'recording': 1,\n",
       "              u'red-eye flights': 1,\n",
       "              u'relevant data': 1,\n",
       "              u'revolution': 1,\n",
       "              u'ricardo cabello': 1,\n",
       "              u'rick rubin': 1,\n",
       "              u'right person': 1,\n",
       "              u'right side': 1,\n",
       "              u'right-hand corner': 1,\n",
       "              u'right-hand side': 1,\n",
       "              u'san francisco': 2,\n",
       "              u'seat \\u266b \\u266b': 2,\n",
       "              u'sensible cities lab': 2,\n",
       "              u'sheep': 1,\n",
       "              u'sheep-like criteria': 1,\n",
       "              u'shoe makers': 1,\n",
       "              u'short clip': 1,\n",
       "              u'short clips': 1,\n",
       "              u'simple audio clip': 1,\n",
       "              u'sixteen-by-nine window': 1,\n",
       "              u'sketchy version': 1,\n",
       "              u'small group': 1,\n",
       "              u'sms': 3,\n",
       "              u'sound \\u266b \\u266b': 1,\n",
       "              u'source code': 1,\n",
       "              u'streetview': 1,\n",
       "              u'stylish marriage \\u266b \\u266b': 2,\n",
       "              u'sum total': 1,\n",
       "              u'takashi kawashima': 1,\n",
       "              u'teeny pieces': 1,\n",
       "              u'tennessee': 1,\n",
       "              u'tenthousandscents.com': 1,\n",
       "              u'thanks': 1,\n",
       "              u'thesheepmarket.com': 1,\n",
       "              u'thom yorke': 2,\n",
       "              u'time-lapse image': 1,\n",
       "              u'turk': 1,\n",
       "              u'tweeted': 1,\n",
       "              u'u.s.': 1,\n",
       "              u'upper right-hand corner': 1,\n",
       "              u'venezuela': 1,\n",
       "              u'video': 2,\n",
       "              u'virtual resurrection': 1,\n",
       "              u'visualize laser scanners': 1,\n",
       "              u'wait': 1,\n",
       "              u'watching': 1,\n",
       "              u'web': 1,\n",
       "              u'web service': 2,\n",
       "              u'wee battles': 1,\n",
       "              u'weird way': 1,\n",
       "              u'whole bunch': 1,\n",
       "              u'whole idea': 1,\n",
       "              u'win butler': 1,\n",
       "              u'wise media theorist': 1,\n",
       "              u\"world 's\": 1,\n",
       "              u'wow': 1,\n",
       "              u'york': 3,\n",
       "              u'youtube': 1,\n",
       "              u'\\u266b \\u266b': 19})]"
      ]
     },
     "execution_count": 230,
     "metadata": {},
     "output_type": "execute_result"
    }
   ],
   "source": [
    "blobs[2:3]"
   ]
  },
  {
   "cell_type": "markdown",
   "metadata": {},
   "source": [
    "### Note: Dirty Data\n",
    "\n",
    "Text is hard to work with because it is invariably _dirty_ data. Misspelled words, poorly-formed sentences, corrupted files, wrong encodings, cut off text, long-winded writing styles, and a multitude of other problems plague this data type. Because of that, you'll find yourself writing many special cases, cleaning data, and modifying existing solutions to fit your dataset. That's normal. And it's part of the reason that these approaches don't work for every dataset out of the box."
   ]
  },
  {
   "cell_type": "code",
   "execution_count": 247,
   "metadata": {
    "collapsed": false
   },
   "outputs": [
    {
     "data": {
      "text/html": [
       "<div style=\"max-height:1000px;max-width:1500px;overflow:auto;\">\n",
       "<table border=\"1\" class=\"dataframe\">\n",
       "  <thead>\n",
       "    <tr style=\"text-align: right;\">\n",
       "      <th></th>\n",
       "      <th>speaker</th>\n",
       "      <th>themes</th>\n",
       "    </tr>\n",
       "  </thead>\n",
       "  <tbody>\n",
       "    <tr>\n",
       "      <th>0</th>\n",
       "      <td>    Aakash Odedra</td>\n",
       "      <td>                                                []</td>\n",
       "    </tr>\n",
       "    <tr>\n",
       "      <th>1</th>\n",
       "      <td>       Aaron Huey</td>\n",
       "      <td> [lakota nation, black, nation, laramie, u.s., ...</td>\n",
       "    </tr>\n",
       "    <tr>\n",
       "      <th>2</th>\n",
       "      <td>     Aaron Koblin</td>\n",
       "      <td> [ooh, ca n't, mechanical turk, sms, york, dais...</td>\n",
       "    </tr>\n",
       "    <tr>\n",
       "      <th>3</th>\n",
       "      <td>  Aaron O'Connell</td>\n",
       "      <td> [quantum mechanics, different places, logical ...</td>\n",
       "    </tr>\n",
       "    <tr>\n",
       "      <th>4</th>\n",
       "      <td>        Abe Davis</td>\n",
       "      <td> [silent video, regular video, little, mary, la...</td>\n",
       "    </tr>\n",
       "    <tr>\n",
       "      <th>5</th>\n",
       "      <td>     Abha Dawesar</td>\n",
       "      <td>                                                []</td>\n",
       "    </tr>\n",
       "    <tr>\n",
       "      <th>6</th>\n",
       "      <td> Abigail Washburn</td>\n",
       "      <td>               [♫ ♫, applause, shady, wong, china]</td>\n",
       "    </tr>\n",
       "    <tr>\n",
       "      <th>7</th>\n",
       "      <td> Abraham Verghese</td>\n",
       "      <td> [fildes, burntisland, laennec, bell, subsequen...</td>\n",
       "    </tr>\n",
       "    <tr>\n",
       "      <th>8</th>\n",
       "      <td> Achenyo Idachaba</td>\n",
       "      <td>              [water hyacinth, gbe'borun, nigeria]</td>\n",
       "    </tr>\n",
       "    <tr>\n",
       "      <th>9</th>\n",
       "      <td>    Adam Davidson</td>\n",
       "      <td> [fiscal cliff, vast majority, u.s., fiscal iss...</td>\n",
       "    </tr>\n",
       "  </tbody>\n",
       "</table>\n",
       "</div>"
      ],
      "text/plain": [
       "            speaker                                             themes\n",
       "0     Aakash Odedra                                                 []\n",
       "1        Aaron Huey  [lakota nation, black, nation, laramie, u.s., ...\n",
       "2      Aaron Koblin  [ooh, ca n't, mechanical turk, sms, york, dais...\n",
       "3   Aaron O'Connell  [quantum mechanics, different places, logical ...\n",
       "4         Abe Davis  [silent video, regular video, little, mary, la...\n",
       "5      Abha Dawesar                                                 []\n",
       "6  Abigail Washburn                [♫ ♫, applause, shady, wong, china]\n",
       "7  Abraham Verghese  [fildes, burntisland, laennec, bell, subsequen...\n",
       "8  Achenyo Idachaba               [water hyacinth, gbe'borun, nigeria]\n",
       "9     Adam Davidson  [fiscal cliff, vast majority, u.s., fiscal iss..."
      ]
     },
     "execution_count": 247,
     "metadata": {},
     "output_type": "execute_result"
    }
   ],
   "source": [
    "# as we did before, pull the higher incident themes\n",
    "np_themes = [[n for n in b if b[n] > 2] for b in blobs] # (list comprehension inception)\n",
    "\n",
    "# pair the speaker with their top themes\n",
    "speaker_themes = zip(df['speaker'], np_themes)\n",
    "\n",
    "speaker_themes_df = pd.DataFrame(speaker_themes, columns=['speaker','themes'])\n",
    "speaker_themes_df[:10]"
   ]
  },
  {
   "cell_type": "markdown",
   "metadata": {},
   "source": [
    "Great! But how do we see these themes across speakers' talks?\n",
    "\n",
    "**PAUSE** - We'll come back to this later."
   ]
  },
  {
   "cell_type": "markdown",
   "metadata": {},
   "source": [
    "**Sidebar: Unicode**\n",
    "\n",
    "If you see text like this: \n",
    "\n",
    "`u'\\u266b'`\n",
    "\n",
    "don't worry. It's unicode. Text is usually in unicode in Python, and this is a representation of a special character. If you use the python `print` function, you'll see that it encodes this character: \n",
    "\n",
    "`♫`"
   ]
  },
  {
   "cell_type": "markdown",
   "metadata": {},
   "source": [
    "---"
   ]
  },
  {
   "cell_type": "markdown",
   "metadata": {},
   "source": [
    "Let's take another seemingly simple question:\n",
    "\n",
    "### Q2. What's in the text?"
   ]
  },
  {
   "cell_type": "code",
   "execution_count": 162,
   "metadata": {
    "collapsed": false
   },
   "outputs": [
    {
     "name": "stdout",
     "output_type": "stream",
     "text": [
      "There are 224 sentences\n",
      "And 3331 words\n"
     ]
    }
   ],
   "source": [
    "print \"There are %s sentences\" % len(t.sentences)\n",
    "print \"And %s words\" % len(t.words)"
   ]
  },
  {
   "cell_type": "markdown",
   "metadata": {},
   "source": [
    "_Psst_ -- I'll let you in on a secret: most of NLP concerns **counting things.**\n",
    "\n",
    "(that isn't always easy, though, as you'll notice)"
   ]
  },
  {
   "cell_type": "markdown",
   "metadata": {},
   "source": [
    "### Parsing\n",
    "\n",
    "In text analytics, we use two important terms to refer to types of words and phrases:\n",
    "\n",
    "- **token** - a single \"word\", or set of continguous characters\n",
    "\n",
    "Example tokens: `(\"won't\", \"giraffes\", \"1998\")`\n",
    "\n",
    "- **n-gram** - a contiguous sequence of n tokens\n",
    "\n",
    "Example 3-grams or tri-grams: `(\"You won't dance\", \"giraffes really smell\", \"that's so 1998\")`"
   ]
  },
  {
   "cell_type": "code",
   "execution_count": 243,
   "metadata": {
    "collapsed": false
   },
   "outputs": [
    {
     "data": {
      "text/plain": [
       "[WordList([u'Okay', u'this', u'morning']),\n",
       " WordList([u'this', u'morning', u'I']),\n",
       " WordList([u'morning', u'I', u\"'m\"]),\n",
       " WordList([u'I', u\"'m\", u'speaking']),\n",
       " WordList([u\"'m\", u'speaking', u'on'])]"
      ]
     },
     "execution_count": 243,
     "metadata": {},
     "output_type": "execute_result"
    }
   ],
   "source": [
    "# to get ngrams from our TextBlob (slice of the first five ngrams)\n",
    "t.ngrams(n=3)[:5]"
   ]
  },
  {
   "cell_type": "markdown",
   "metadata": {},
   "source": [
    "Note the overlap here - the window moves over one token to slice the next ngram."
   ]
  },
  {
   "cell_type": "markdown",
   "metadata": {
    "slideshow": {
     "slide_type": "-"
    }
   },
   "source": [
    "### What's a sentence made up of?\n",
    "\n",
    "#### The Building Blocks of Language\n",
    "Language is made of up of many components, but one way to think about language is by the types of words used. Words are categorized into functional **\"Parts of Speech\"**, which describe the role they play. The most common parts of speech in English are:\n",
    "\n",
    "- noun\n",
    "- verb\n",
    "- adjective\n",
    "- adverb\n",
    "- pronoun\n",
    "- preposition\n",
    "- conjunction\n",
    "- interjection\n",
    "- article or determiner\n",
    "\n",
    "In an example sentence:\n",
    "\n",
    "<img src=\"assets/partsofspeech.png\">\n",
    "\n",
    "We can think about Parts of Speech as **an abstraction of the words' behavior** within a sentence, rather than the things they describe in the world."
   ]
  },
  {
   "cell_type": "markdown",
   "metadata": {},
   "source": [
    "#### What's the big deal about Part-of-Speech Tagging?\n",
    "\n",
    "POS tagging is hard because language and grammatical structure can and often are ambiguous. Humans can easily identify the subject and object of a sentence to identify a compound noun or a sub-clause, but a computer cannot. The computer needs to learn from examples to tell the difference.\n",
    "\n",
    "Learning about the most likely tag that a given word should have is called incorporating \"[prior knowledge](https://en.wikipedia.org/wiki/Prior_knowledge_for_pattern_recognition)\" and is the main task of training supervised machine learning models. Models use prior knowledge to infer the correct tag for new sentences.\n",
    "\n",
    "For example,\n",
    "\n",
    "> He said he **banks** on the river.\n",
    "\n",
    "> He said **the banks** of the river were high.\n",
    "\n",
    "Here, the context for the use of the word \"banks\" is important to determine whether it's a noun or a verb. Before the 1990s, a more popular technique for part of speech tagging was the **rules-based approach,** which involved writing a lengthy litany of rules that described these contextual differences in detail. Only in some cases did this work very well, but never in generalized cases. Statistical inference approaches, or describing these difference by learning from data, is now a more popular and more widely used approch.\n",
    "\n",
    "This becomes important in identifying sub-clauses, which then allow disambiguation for other tasks, such as sentiment analysis. For example:\n",
    "\n",
    "> He said **she was sad.**\n",
    "\n",
    "We could be led to believe that the subject of the sentence is \"He\", and the sentiment is negative (\"sad\"), but connecting \"He\" to \"sad\" would be incorrect. Parsing the clause \"she was sad\" allows us to achieve greater accuracy in sentiment analysis, especially if we are concerned with attributing sentiment to actors in text.\n",
    "\n",
    "So let's take an example sentence:"
   ]
  },
  {
   "cell_type": "code",
   "execution_count": 169,
   "metadata": {
    "collapsed": false
   },
   "outputs": [
    {
     "name": "stdout",
     "output_type": "stream",
     "text": [
      "The full sentence:\n",
      " Okay, this morning I'm speaking on the question of corruption.\n",
      "\n",
      "The sentence with tags by word: \n",
      "[(u'Okay', u'NNP'), (u'this', u'DT'), (u'morning', u'NN'), (u'I', u'PRP'), (u\"'m\", u'VBP'), (u'speaking', u'VBG'), (u'on', u'IN'), (u'the', u'DT'), (u'question', u'NN'), (u'of', u'IN'), (u'corruption', u'NN')]\n",
      "\n",
      "The tags of the sentence in order: \n",
      "NNP DT NN PRP VBP VBG IN DT NN IN NN\n"
     ]
    }
   ],
   "source": [
    "sent = t.sentences[0] # the first sentence in the transcript\n",
    "sent_tags = sent.tags # get the part of speech tags - you'll notice it takes a second\n",
    "print \"The full sentence:\\n\", sent\n",
    "print \"\\nThe sentence with tags by word: \\n\", sent_tags\n",
    "print \"\\nThe tags of the sentence in order: \\n\", \" \".join([b for a, b in sent_tags])"
   ]
  },
  {
   "cell_type": "markdown",
   "metadata": {},
   "source": [
    "Note that \"I'm\" resolves to a personal pronoun `'PRP'` **and** a verb `'VBP'`. It's a contraction!\n",
    "\n",
    "<img src=\"assets/pos_codes.png\">\n",
    "_See the notation legend for part-of-speech tags [here](https://cs.nyu.edu/grishman/jet/guide/PennPOS.html)_"
   ]
  },
  {
   "cell_type": "markdown",
   "metadata": {},
   "source": [
    "---\n",
    "### Practice Example\n",
    "\n",
    "So let's pick another sentence and check our understanding of labeling:"
   ]
  },
  {
   "cell_type": "code",
   "execution_count": 182,
   "metadata": {
    "collapsed": false
   },
   "outputs": [
    {
     "data": {
      "text/plain": [
       "Sentence(\"The then-Prime Minister went to Parliament to give a budget speech, and he said some things that I'll never forget.\")"
      ]
     },
     "execution_count": 182,
     "metadata": {},
     "output_type": "execute_result"
    }
   ],
   "source": [
    "t.sentences[35]"
   ]
  },
  {
   "cell_type": "markdown",
   "metadata": {},
   "source": [
    "Write this sentence out. **What are the part of speech tags?** Use the Part-of-Speech Code table above.\n",
    "\n",
    "And the answer is:"
   ]
  },
  {
   "cell_type": "code",
   "execution_count": 186,
   "metadata": {
    "collapsed": false
   },
   "outputs": [],
   "source": [
    "answer_sent = t.sentences[35].tags\n",
    "print ' '.join(['/'.join(i) for i in answer_sent])"
   ]
  },
  {
   "cell_type": "markdown",
   "metadata": {},
   "source": [
    "And for fun, **What are the noun phrases?** \n",
    "\n",
    "_hint: noun phrases are defined slightly differently by different people, so this is sometimes subjective_\n",
    "\n",
    "Answer:"
   ]
  },
  {
   "cell_type": "code",
   "execution_count": null,
   "metadata": {
    "collapsed": true
   },
   "outputs": [],
   "source": [
    "t.sentences[35].noun_phrases"
   ]
  },
  {
   "cell_type": "markdown",
   "metadata": {},
   "source": [
    "---\n",
    "\n",
    "#### Bad things are bad\n",
    "\n",
    "But don't worry - it's not just the computer that has trouble understanding what roles words play in a sentence. Some sentences are ambiguous or difficult for humans, too:\n",
    "\n",
    "> Mr/NNP Calhoun/NNP never/RB got/VBD **around/RP** to/TO joining/VBG\n",
    "\n",
    "> All/DT we/PRP gotta/VBN do/VB is/VBZ go/VB **around/IN** the/DT block/NN\n",
    "\n",
    "> Suite/NNP Mondant/NNP costs/VBZ **around/RB** 250/CD\n",
    "\n",
    "This is a great example of why you will _always_ have error - sometimes even a human can't tell the difference, and in those cases, the computer will fail, too."
   ]
  },
  {
   "cell_type": "markdown",
   "metadata": {},
   "source": [
    "#### Part-of-Speech Tagging - Runtime\n",
    "\n",
    "Part-of-Speech taggers have achieved quite **high quality results** in recent years, but still suffer from **underwhelming performance**. This is because they usually are not heuristic-based, or derived from empirical rules, but rather use machine-learned models that require significant pre-processing and feature generation to predict tags. In practice, Data Scientists might develop their own heuristics or domain-trained models for POS tagging. This is a great example of a case where domain-specificity of the model will improve the accuracy, even if based on heuristics alone (see further reading).\n",
    "\n",
    "Something important to note: **NLTK**, a popular tool that is underneath much of TextBlob, is a massive framework that was built originally as an academic and teaching tool. It was not built with production performance in mind.\n",
    "\n",
    "Unfortunately, as Matthew Honnibal notes,\n",
    "\n",
    "> _Up-to-date knowledge about natural language processing is mostly locked away in academia._\n",
    "\n",
    "#### Further Reading:\n",
    "- [A Good Part-of-Speech Tagger in about 200 Lines of Python](https://spacy.io/blog/part-of-speech-POS-tagger-in-python)\n",
    "- [Exploiting Wiktionary for Lightweight Part-of-Speech Tagging for Machine Learning Tasks](https://www.thinkmind.org/download.php?articleid=data_analytics_2013_1_30_70013)"
   ]
  },
  {
   "cell_type": "markdown",
   "metadata": {},
   "source": [
    "----"
   ]
  },
  {
   "cell_type": "markdown",
   "metadata": {},
   "source": [
    "### Q2: What tone does this transcript take?\n",
    "\n",
    "**Sentiment** refers to the emotive value of language.\n",
    "\n",
    "**Polarity** is the generalized sentiment measured from negative to positive. A sentiment polarity score can be calculated in a range of [-1.0,1.0].\n",
    "\n",
    "So the general polarity of the text is:"
   ]
  },
  {
   "cell_type": "code",
   "execution_count": 109,
   "metadata": {
    "collapsed": false
   },
   "outputs": [
    {
     "data": {
      "text/plain": [
       "0.10425806227411723"
      ]
     },
     "execution_count": 109,
     "metadata": {},
     "output_type": "execute_result"
    }
   ],
   "source": [
    "print t.sentiment.polarity"
   ]
  },
  {
   "cell_type": "markdown",
   "metadata": {},
   "source": [
    "So this text is mildly positive. Does that tell us anything useful? Not really. But what about the change of tone over the course of the talk?"
   ]
  },
  {
   "cell_type": "code",
   "execution_count": 114,
   "metadata": {
    "collapsed": false
   },
   "outputs": [
    {
     "name": "stdout",
     "output_type": "stream",
     "text": [
      "[0.5, 0.0, 0.5, 0.0, 0.0, 0.0, 0.049999999999999996, 0.0, 0.6, 0.0, 0.5, 0.0, 0.2, 0.0, 0.0, 0.0, 0.0, -0.036538461538461534, -0.69, 0.0, -0.09375, -0.049999999999999996, 0.0, 0.0, 0.1, 0.375, 0.06666666666666667, 0.5, 0.0, 0.0, 0.5, 0.25, 0.0, 0.0, -0.4, 0.0, 0.2857142857142857, 0.1, 0.2857142857142857, 0.0, 0.0, -0.15000000000000002, 0.21428571428571427, 0.0, 0.0, -0.1875, 0.0, 0.5, 0.0, 0.5, -0.2, 0.0, 0.0, 0.0, 0.0, 0.0, 0.4, 0.0, 0.6, 0.0, 0.25, 0.0, 0.1, -0.3333333333333333, 0.0, 0.0, 0.15000000000000002, 0.0, 0.0, 0.1875, 0.6, -0.05000000000000001, 0.0, 0.5, 0.20625, 0.0, 0.4333333333333333, 0.0, 0.0, 0.0, 0.0, -0.0928571428571429, -0.25, 0.05, 0.0, 0.0, 0.0, 0.0, -0.10000000000000002, 0.0, 0.0, 0.0, 0.35, 0.0, -0.15, 0.0, 0.19999999999999998, 0.09285714285714285, 0.45, 0.45, 0.0, 0.0, 0.0, 0.0, 0.2857142857142857, 0.25, 0.25, 0.0, 0.0, 0.16666666666666669, 0.0, 0.04545454545454545, 0.375, -0.05555555555555555, 0.25, -0.015, 0.4666666666666666, 0.0, 0.0, 0.0, 0.0, 0.0, 0.0, 0.0, 0.0, 0.0, 0.5, -0.3333333333333333, 0.0, 0.0, 0.0, 0.0, 0.0, 0.020833333333333332, 0.2333333333333333, 0.0, 0.0, 0.0, 0.0, 0.0, 0.0, 0.0, 0.0, 0.0, 0.2375, -0.06, 0.0, 0.5, 0.0, 0.0, 0.0, -0.125, -0.16666666666666666, 0.2, 0.0, 0.0, 0.0, 0.0, 0.0, 0.0, 0.06818181818181818, 0.0, 0.0, -0.15625, 0.0, 0.0, -0.1, -0.20833333333333331, 0.5, -0.16666666666666666, 0.0, 0.08333333333333333, 0.0, 0.0, 0.5, 0.4, 0.0, 0.0, 0.0, 0.19999999999999998, 0.75, 0.4, 0.11428571428571428, 0.0, 0.0, 0.0, 0.5, 0.0, 0.0, 0.0, 0.0, 0.0, 0.0, 0.2, 0.0, 0.0, 0.0, -0.07142857142857142, -0.03571428571428571, 0.0, 0.0, 0.0, 0.0, 0.0, 0.0, 0.04545454545454545, 0.0, -0.0625, 0.0, 0.0, 0.0, 0.0, 0.0, 0.25, 0.2, 0.55, 0.0, 0.0, 0.25, 0.0, 0.4000000000000001, 0.2, 0.0, 0.0]\n"
     ]
    }
   ],
   "source": [
    "tone_change = list()\n",
    "for sentence in t.sentences:\n",
    "     tone_change.append(sentence.sentiment.polarity)\n",
    "\n",
    "print tone_change"
   ]
  },
  {
   "cell_type": "markdown",
   "metadata": {},
   "source": [
    "Ok, so we see some significant range here. Let's make it easier to see with a visualization."
   ]
  },
  {
   "cell_type": "code",
   "execution_count": 116,
   "metadata": {
    "collapsed": true
   },
   "outputs": [],
   "source": [
    "# this will show the graph here in the notebook\n",
    "import matplotlib.pyplot as plt\n",
    "%matplotlib inline"
   ]
  },
  {
   "cell_type": "code",
   "execution_count": 121,
   "metadata": {
    "collapsed": false
   },
   "outputs": [
    {
     "data": {
      "text/plain": [
       "<matplotlib.axes._subplots.AxesSubplot at 0x10c962110>"
      ]
     },
     "execution_count": 121,
     "metadata": {},
     "output_type": "execute_result"
    },
    {
     "data": {
      "image/png": "[encoded data removed]",
      "text/plain": [
       "<matplotlib.figure.Figure at 0x10b03d710>"
      ]
     },
     "metadata": {},
     "output_type": "display_data"
    }
   ],
   "source": [
    "# dataframes have a handy plot method\n",
    "pd.DataFrame(tone_change).plot(title='Polarity of Transcript by Sentence')"
   ]
  },
  {
   "cell_type": "markdown",
   "metadata": {},
   "source": [
    "Interesting trend - does the talk seem to become more positive over time?\n",
    "\n",
    "Anecdotally, we know that TED talks seek to motivate and inspire, which could be one explanation for this sentiment polarity pattern.\n",
    "\n",
    "Play around with this data yourself!\n",
    "\n",
    "---"
   ]
  },
  {
   "cell_type": "markdown",
   "metadata": {},
   "source": [
    "# 2. Representations of Text for Computation\n",
    "\n",
    "Text is messy and requires pre-processing. Once we've pre-processed and normalized the text, how do we use computation to understand it?\n",
    "\n",
    "We may want to do a number of things computationally, but I'll focus generally on finding differences and similarities. In the case study, I'll focus on a **supervised classification** example, where these goals are key.\n",
    "\n",
    "So let's start where we always do - counting words."
   ]
  },
  {
   "cell_type": "code",
   "execution_count": 331,
   "metadata": {
    "collapsed": false
   },
   "outputs": [
    {
     "data": {
      "text/plain": [
       "{u'09': 1,\n",
       " u'1.6': 2,\n",
       " u'10': 2,\n",
       " u'15': 2,\n",
       " u'1970s': 1,\n",
       " u'1982': 2,\n",
       " u'1999': 1,\n",
       " u'24': 2,\n",
       " u'30': 4,\n",
       " u'34': 4,\n",
       " u'40': 1,\n",
       " u'50th': 1,\n",
       " u'60': 2,\n",
       " u'a': 69,\n",
       " u'able': 1,\n",
       " u'about': 24,\n",
       " u'abuse': 1,\n",
       " u'according': 1,\n",
       " u'accountability': 3,\n",
       " u'accounts': 4,\n",
       " u'accused': 6,\n",
       " u'across': 1,\n",
       " u'act': 9,\n",
       " u'activity': 2,\n",
       " u'actually': 1,\n",
       " u'admit': 2,\n",
       " u'advance': 2,\n",
       " u'advertised': 1,\n",
       " u'afraraymond.com': 1,\n",
       " u'africa': 1,\n",
       " u'again': 2,\n",
       " u'against': 2,\n",
       " u'ago': 5,\n",
       " u'airport': 4,\n",
       " u'alaska': 1,\n",
       " u'alaveteli.com': 2,\n",
       " u'all': 9,\n",
       " u'also': 3,\n",
       " u'always': 2,\n",
       " u'am': 3,\n",
       " u'american': 1,\n",
       " u'amount': 1,\n",
       " u'an': 12,\n",
       " u'and': 125,\n",
       " u'anniversary': 1,\n",
       " u'another': 1,\n",
       " u'answer': 1,\n",
       " u'any': 2,\n",
       " u'anything': 2,\n",
       " u'anywhere': 5,\n",
       " u'applause': 2,\n",
       " u'application': 1,\n",
       " u'applications': 1,\n",
       " u'applied': 1,\n",
       " u'applying': 1,\n",
       " u'appointed': 1,\n",
       " u'are': 16,\n",
       " u'around': 4,\n",
       " u'arrangements': 3,\n",
       " u'as': 12,\n",
       " u'ask': 2,\n",
       " u'asked': 6,\n",
       " u'assets': 1,\n",
       " u'at': 13,\n",
       " u'attention': 2,\n",
       " u'audience': 1,\n",
       " u'august': 1,\n",
       " u'autumn': 1,\n",
       " u'back': 4,\n",
       " u'backhanders': 1,\n",
       " u'bailed': 1,\n",
       " u'bailout': 1,\n",
       " u'bailouts': 4,\n",
       " u'ballah': 2,\n",
       " u'bank': 6,\n",
       " u'banks': 1,\n",
       " u'basic': 1,\n",
       " u'battered-looking': 1,\n",
       " u'battle': 1,\n",
       " u'be': 9,\n",
       " u'bearings': 1,\n",
       " u'became': 1,\n",
       " u'because': 12,\n",
       " u'been': 15,\n",
       " u'before': 1,\n",
       " u'being': 4,\n",
       " u'belmont': 1,\n",
       " u'benefit': 1,\n",
       " u'betterment': 1,\n",
       " u'bid-rigging': 1,\n",
       " u'big': 4,\n",
       " u'billion': 8,\n",
       " u'biology': 1,\n",
       " u'bit': 3,\n",
       " u'bitter': 2,\n",
       " u'blog': 1,\n",
       " u'blonde': 1,\n",
       " u'bluff': 1,\n",
       " u'board': 1,\n",
       " u'brain': 1,\n",
       " u'branches': 1,\n",
       " u'bribes': 1,\n",
       " u'bring': 5,\n",
       " u'bristol': 1,\n",
       " u'britain': 1,\n",
       " u'brooke': 1,\n",
       " u'budget': 1,\n",
       " u'build': 2,\n",
       " u'building': 2,\n",
       " u'bursting': 1,\n",
       " u'but': 13,\n",
       " u'by': 2,\n",
       " u'ca': 3,\n",
       " u'call': 3,\n",
       " u'called': 4,\n",
       " u'came': 1,\n",
       " u'campaigns': 1,\n",
       " u'can': 7,\n",
       " u'career': 2,\n",
       " u'carefully': 2,\n",
       " u'caribbean': 3,\n",
       " u'case': 3,\n",
       " u'caught': 1,\n",
       " u'cause': 2,\n",
       " u'caused': 1,\n",
       " u'celebrated': 1,\n",
       " u'celebrating': 1,\n",
       " u'center': 1,\n",
       " u'central': 4,\n",
       " u'changed': 1,\n",
       " u'changing': 1,\n",
       " u'check': 2,\n",
       " u'children': 1,\n",
       " u'cl': 4,\n",
       " u'clarity': 1,\n",
       " u'collapsed': 3,\n",
       " u'collective': 2,\n",
       " u'comes': 2,\n",
       " u'coming': 3,\n",
       " u'commercial': 1,\n",
       " u'commission': 1,\n",
       " u'commissioner': 1,\n",
       " u'commitment': 1,\n",
       " u'compared': 1,\n",
       " u'complained': 1,\n",
       " u'complexes': 1,\n",
       " u'conducting': 1,\n",
       " u'conglomerate': 1,\n",
       " u'connection': 1,\n",
       " u'consciousness': 1,\n",
       " u'consisted': 1,\n",
       " u'constitutional': 2,\n",
       " u'constructed': 1,\n",
       " u'construction': 1,\n",
       " u'consultative': 1,\n",
       " u'context': 7,\n",
       " u'continue': 6,\n",
       " u'contradiction': 1,\n",
       " u'cool': 1,\n",
       " u'corrupt': 1,\n",
       " u'corruption': 16,\n",
       " u'cost': 2,\n",
       " u'could': 4,\n",
       " u'council': 1,\n",
       " u'countries': 1,\n",
       " u'country': 10,\n",
       " u'courage': 2,\n",
       " u'course': 2,\n",
       " u'court': 3,\n",
       " u'creditors': 3,\n",
       " u'crime': 11,\n",
       " u'd': 2,\n",
       " u'damp': 1,\n",
       " u'dangerous': 2,\n",
       " u'dark': 1,\n",
       " u'database': 2,\n",
       " u'day': 2,\n",
       " u'deal': 2,\n",
       " u'dealing': 3,\n",
       " u'deeper': 1,\n",
       " u'defined': 2,\n",
       " u'demonstrate': 1,\n",
       " u'destroy': 2,\n",
       " u'details': 1,\n",
       " u'develop': 1,\n",
       " u'diego': 1,\n",
       " u'different': 3,\n",
       " u'digging': 1,\n",
       " u'dignify': 1,\n",
       " u'director': 1,\n",
       " u'directors': 1,\n",
       " u'discard': 2,\n",
       " u'discarded': 1,\n",
       " u'disclosure': 2,\n",
       " u'discovered': 1,\n",
       " u'discuss': 1,\n",
       " u'dismantle': 1,\n",
       " u'dispersed': 1,\n",
       " u'do': 8,\n",
       " u'does': 1,\n",
       " u'doing': 1,\n",
       " u'dollars': 11,\n",
       " u'double': 1,\n",
       " u'drinking': 1,\n",
       " u'each': 1,\n",
       " u'early': 1,\n",
       " u'economic': 3,\n",
       " u'effect': 1,\n",
       " u'eh': 1,\n",
       " u'either': 1,\n",
       " u'else': 2,\n",
       " u'embarked': 2,\n",
       " u'embarrassing': 1,\n",
       " u'embassy': 1,\n",
       " u'entire': 1,\n",
       " u'entitlements': 1,\n",
       " u'equal': 2,\n",
       " u'equation': 1,\n",
       " u'europe': 1,\n",
       " u'even': 3,\n",
       " u'events': 1,\n",
       " u'ever': 1,\n",
       " u'every': 1,\n",
       " u'example': 3,\n",
       " u'examples': 1,\n",
       " u'excellent': 1,\n",
       " u'excess': 1,\n",
       " u'exchanges': 1,\n",
       " u'exempt': 1,\n",
       " u'expenditure': 2,\n",
       " u'experience': 3,\n",
       " u'fact': 12,\n",
       " u'family': 3,\n",
       " u'famous': 1,\n",
       " u'fantastic': 1,\n",
       " u'fashion': 1,\n",
       " u'fear': 1,\n",
       " u'feel': 1,\n",
       " u'fiasco': 2,\n",
       " u'figures': 1,\n",
       " u'file': 2,\n",
       " u'filing': 1,\n",
       " u'filings': 1,\n",
       " u'final': 1,\n",
       " u'finance': 9,\n",
       " u'financial': 5,\n",
       " u'financiers': 2,\n",
       " u'find': 1,\n",
       " u'finding': 1,\n",
       " u'first': 7,\n",
       " u'fit': 2,\n",
       " u'flowed': 1,\n",
       " u'focusing': 1,\n",
       " u'follow': 1,\n",
       " u'for': 19,\n",
       " u'force': 2,\n",
       " u'forced': 1,\n",
       " u'forever': 2,\n",
       " u'forget': 3,\n",
       " u'form': 1,\n",
       " u'forms': 1,\n",
       " u'fortified': 1,\n",
       " u'found': 2,\n",
       " u'four': 3,\n",
       " u'framework': 1,\n",
       " u'france': 1,\n",
       " u'free': 1,\n",
       " u'freedom': 8,\n",
       " u'friends': 3,\n",
       " u'from': 5,\n",
       " u'gave': 2,\n",
       " u'generosity': 3,\n",
       " u'generous': 1,\n",
       " u'get': 8,\n",
       " u'getting': 5,\n",
       " u'give': 1,\n",
       " u'giving': 1,\n",
       " u'go': 4,\n",
       " u'going': 13,\n",
       " u'good': 1,\n",
       " u'got': 2,\n",
       " u'government': 7,\n",
       " u'government-to-government': 3,\n",
       " u'group': 1,\n",
       " u'grown': 1,\n",
       " u'had': 13,\n",
       " u'half': 3,\n",
       " u'happened': 3,\n",
       " u'happening': 1,\n",
       " u'has': 8,\n",
       " u'have': 31,\n",
       " u'he': 11,\n",
       " u'heart': 1,\n",
       " u'heather': 1,\n",
       " u'helps': 1,\n",
       " u'her': 1,\n",
       " u'here': 14,\n",
       " u'highest': 1,\n",
       " u'his': 3,\n",
       " u'history': 2,\n",
       " u'hit': 2,\n",
       " u'honest': 1,\n",
       " u'hope': 1,\n",
       " u'how': 6,\n",
       " u'huge': 1,\n",
       " u'i': 71,\n",
       " u'idea': 1,\n",
       " u'if': 12,\n",
       " u'ignored': 1,\n",
       " u'immediately': 1,\n",
       " u'immune': 1,\n",
       " u'important': 5,\n",
       " u'importantly': 1,\n",
       " u'in': 77,\n",
       " u'increase': 4,\n",
       " u'independence': 3,\n",
       " u'india': 1,\n",
       " u'individual': 1,\n",
       " u'information': 10,\n",
       " u'inquiry': 1,\n",
       " u'institution': 1,\n",
       " u'integrity': 3,\n",
       " u'interest': 1,\n",
       " u'interested': 1,\n",
       " u'interesting': 1,\n",
       " u'international': 3,\n",
       " u'into': 10,\n",
       " u'introduced': 1,\n",
       " u'involved': 1,\n",
       " u'involving': 1,\n",
       " u'ipaidabribe.com': 2,\n",
       " u'ironic': 1,\n",
       " u'ironies': 1,\n",
       " u'irony': 1,\n",
       " u'irresponsibility': 1,\n",
       " u'is': 65,\n",
       " u'it': 79,\n",
       " u'january': 1,\n",
       " u'jcc': 1,\n",
       " u'jcc.org.tt': 1,\n",
       " u'joining': 1,\n",
       " u'joint': 1,\n",
       " u'joke': 1,\n",
       " u'journalist': 1,\n",
       " u'jubilee': 1,\n",
       " u'just': 7,\n",
       " u'kind': 5,\n",
       " u'know': 1,\n",
       " u'labeled': 1,\n",
       " u'lack': 1,\n",
       " u'lady': 2,\n",
       " u'largely': 1,\n",
       " u'largest': 4,\n",
       " u'last': 1,\n",
       " u'laughter': 4,\n",
       " u'law': 8,\n",
       " u'laws': 3,\n",
       " u'lawyers': 1,\n",
       " u'lead': 1,\n",
       " u'leaders': 1,\n",
       " u'leading': 1,\n",
       " u'legal': 1,\n",
       " u'let': 6,\n",
       " u'lexicon': 1,\n",
       " u'liabilities': 1,\n",
       " u'life': 2,\n",
       " u'like': 12,\n",
       " u'listen': 2,\n",
       " u'little': 5,\n",
       " u'll': 2,\n",
       " u'located': 1,\n",
       " u'log': 1,\n",
       " u'london': 1,\n",
       " u'look': 3,\n",
       " u'looking': 1,\n",
       " u'looting': 1,\n",
       " u'lot': 7,\n",
       " u'lovely': 1,\n",
       " u'm': 20,\n",
       " u'made': 6,\n",
       " u'major': 1,\n",
       " u'make': 1,\n",
       " u'making': 3,\n",
       " u'man': 1,\n",
       " u'marabella': 1,\n",
       " u'marker': 1,\n",
       " u'mass': 1,\n",
       " u'massive': 3,\n",
       " u'matter': 1,\n",
       " u'matters': 1,\n",
       " u'maturation': 1,\n",
       " u'may': 1,\n",
       " u'maybe': 1,\n",
       " u'me': 10,\n",
       " u'mean': 1,\n",
       " u'million': 2,\n",
       " u'minister': 4,\n",
       " u'ministry': 7,\n",
       " u'mischief': 2,\n",
       " u'miseducated': 1,\n",
       " u'money': 11,\n",
       " u'months': 1,\n",
       " u'more': 1,\n",
       " u'morning': 2,\n",
       " u'most': 2,\n",
       " u'motivated': 1,\n",
       " u'movement': 1,\n",
       " u'must': 1,\n",
       " u'my': 10,\n",
       " u'myself': 1,\n",
       " u'mysterious': 1,\n",
       " u'myth': 7,\n",
       " u'myths': 1,\n",
       " u\"n't\": 14,\n",
       " u'name': 3,\n",
       " u'nancy-story': 1,\n",
       " u'nasty': 1,\n",
       " u'nation': 1,\n",
       " u'national': 1,\n",
       " u'nature': 1,\n",
       " u'nearly': 1,\n",
       " u'need': 5,\n",
       " u'never': 1,\n",
       " u'new': 3,\n",
       " u'next': 3,\n",
       " u'nigeria': 2,\n",
       " u'nigerian': 1,\n",
       " u'no': 2,\n",
       " u'nobody': 1,\n",
       " u'not': 13,\n",
       " u'not-for-profit': 2,\n",
       " u'nothing': 1,\n",
       " u'novels': 2,\n",
       " u'november': 1,\n",
       " u'now': 4,\n",
       " u'nowhere': 1,\n",
       " u'number': 2,\n",
       " u'occupy': 1,\n",
       " u'of': 123,\n",
       " u'office': 1,\n",
       " u'officials': 2,\n",
       " u'offshore': 2,\n",
       " u'oil': 1,\n",
       " u'okay': 14,\n",
       " u'on': 26,\n",
       " u'one': 12,\n",
       " u'only': 4,\n",
       " u'open': 1,\n",
       " u'or': 15,\n",
       " u'order': 1,\n",
       " u'other': 3,\n",
       " u'our': 17,\n",
       " u'ours': 1,\n",
       " u'out': 13,\n",
       " u'outdated': 1,\n",
       " u'outrage': 3,\n",
       " u'outraged': 3,\n",
       " u'outrageous': 1,\n",
       " u'outwitted': 1,\n",
       " u'over': 2,\n",
       " u'own': 2,\n",
       " u'parallel': 1,\n",
       " u'park': 1,\n",
       " u'parliament': 6,\n",
       " u'part': 3,\n",
       " u'participates': 1,\n",
       " u'particular': 1,\n",
       " u'parts': 1,\n",
       " u'passage': 2,\n",
       " u'passed': 2,\n",
       " u'passing': 2,\n",
       " u'pause': 6,\n",
       " u'paying': 2,\n",
       " u'people': 5,\n",
       " u'percent': 2,\n",
       " u'permanent': 1,\n",
       " u'person': 4,\n",
       " u'personal': 1,\n",
       " u'personally': 1,\n",
       " u'pervert': 2,\n",
       " u'perverted': 1,\n",
       " u'perverts': 1,\n",
       " u'petitions': 1,\n",
       " u'petrodollars': 2,\n",
       " u'physics': 1,\n",
       " u'piarco': 3,\n",
       " u'piece': 3,\n",
       " u'place': 6,\n",
       " u'planet': 2,\n",
       " u'please': 1,\n",
       " u'plot': 2,\n",
       " u'plunged': 1,\n",
       " u'point': 9,\n",
       " u'police': 1,\n",
       " u'political': 1,\n",
       " u'popular': 1,\n",
       " u'position': 1,\n",
       " u'press': 2,\n",
       " u'previous': 1,\n",
       " u'prices': 1,\n",
       " u'private': 6,\n",
       " u'privilege': 1,\n",
       " u'probably': 1,\n",
       " u'problem': 6,\n",
       " u'procurement': 1,\n",
       " u'produce': 1,\n",
       " u'project': 2,\n",
       " u'projects': 1,\n",
       " u'proper': 2,\n",
       " u'prosecutions': 1,\n",
       " u'protest': 2,\n",
       " u'protesters': 1,\n",
       " u'protests': 1,\n",
       " u'provisions': 2,\n",
       " u'public': 13,\n",
       " u'pure': 1,\n",
       " u'put': 1,\n",
       " u'question': 7,\n",
       " u'questions': 2,\n",
       " u'rapidly': 1,\n",
       " u're': 18,\n",
       " u'read': 2,\n",
       " u'reality': 2,\n",
       " u'really': 7,\n",
       " u'reason': 1,\n",
       " u'recalculate': 2,\n",
       " u'reconstruct': 1,\n",
       " u'reconvened': 1,\n",
       " u'relate': 1,\n",
       " u'relates': 1,\n",
       " u'relation': 1,\n",
       " u'relationship': 1,\n",
       " u'release': 1,\n",
       " u'relying': 1,\n",
       " u'remember': 1,\n",
       " u'repaid': 1,\n",
       " u'repay': 1,\n",
       " u'repeal': 1,\n",
       " u'repealed': 2,\n",
       " u'replies': 1,\n",
       " u'reply': 1,\n",
       " u'report': 1,\n",
       " u'reported': 2,\n",
       " u'required': 1,\n",
       " u'resolution': 1,\n",
       " u'resource-rich': 2,\n",
       " u'responsible': 1,\n",
       " u'reversed': 1,\n",
       " u'rich': 1,\n",
       " u'ridicule': 1,\n",
       " u'right': 6,\n",
       " u'room': 1,\n",
       " u'run': 1,\n",
       " u'russia': 1,\n",
       " u's': 48,\n",
       " u'safeguard': 1,\n",
       " u'safeguards': 1,\n",
       " u'said': 11,\n",
       " u'same': 2,\n",
       " u'saw': 1,\n",
       " u'say': 6,\n",
       " u'saying': 1,\n",
       " u'says': 1,\n",
       " u'scandal': 1,\n",
       " u'scholarship': 1,\n",
       " u'scholarships': 2,\n",
       " u'second': 6,\n",
       " u'secret': 1,\n",
       " u'secretary': 1,\n",
       " u'secrets': 1,\n",
       " u'section': 4,\n",
       " u'sector': 6,\n",
       " u'security': 1,\n",
       " u'see': 11,\n",
       " u'segue': 1,\n",
       " u'september': 1,\n",
       " u'series': 3,\n",
       " u'serious': 2,\n",
       " u'she': 1,\n",
       " u'short': 1,\n",
       " u'show': 1,\n",
       " u'sign': 4,\n",
       " u'signed': 1,\n",
       " u'signing': 1,\n",
       " u'simple': 1,\n",
       " u'since': 2,\n",
       " u'single': 2,\n",
       " u'situation': 3,\n",
       " u'six': 1,\n",
       " u'size': 1,\n",
       " u'slide': 1,\n",
       " u'small': 4,\n",
       " u'so': 27,\n",
       " u'so-and-sos': 1,\n",
       " u'society': 2,\n",
       " u'some': 11,\n",
       " u'somebody': 1,\n",
       " u'something': 3,\n",
       " u'sometimes': 1,\n",
       " u'sort': 1,\n",
       " u'speak': 2,\n",
       " u'speaking': 9,\n",
       " u'speech': 1,\n",
       " u'speeches': 1,\n",
       " u'spent': 2,\n",
       " u'spy': 2,\n",
       " u'stability': 1,\n",
       " u'stand': 1,\n",
       " u'standing': 3,\n",
       " u'start': 1,\n",
       " u'started': 2,\n",
       " u'statement': 1,\n",
       " u'statements': 1,\n",
       " u'states': 1,\n",
       " u'statutory': 1,\n",
       " u'step': 1,\n",
       " u'stolen': 2,\n",
       " u'stopped': 1,\n",
       " u'street': 6,\n",
       " u'struggle': 2,\n",
       " u'stuff': 3,\n",
       " u'subject': 1,\n",
       " u'suffered': 1,\n",
       " u'superior': 1,\n",
       " u'supposed': 3,\n",
       " u'sure': 1,\n",
       " u'suspects': 1,\n",
       " u'suspicious': 8,\n",
       " u'sustainability': 1,\n",
       " u'swiftly': 1,\n",
       " u'system': 1,\n",
       " u'table': 2,\n",
       " u'take': 3,\n",
       " u'takes': 1,\n",
       " u'talk': 2,\n",
       " u'talking': 2,\n",
       " u'taxpayers': 3,\n",
       " u'tell': 3,\n",
       " u'telling': 2,\n",
       " u'temple': 1,\n",
       " u'terms': 2,\n",
       " u'terrace': 1,\n",
       " u'thank': 1,\n",
       " u'that': 72,\n",
       " u'the': 175,\n",
       " u'their': 1,\n",
       " u'them': 6,\n",
       " u'then-prime': 1,\n",
       " u'there': 14,\n",
       " u'these': 4,\n",
       " u'they': 20,\n",
       " u'thing': 11,\n",
       " u'things': 5,\n",
       " u'thinking': 1,\n",
       " u'third': 1,\n",
       " u'thirds': 1,\n",
       " u'this': 33,\n",
       " u'those': 6,\n",
       " u'thought': 1,\n",
       " u'three': 4,\n",
       " u'through': 2,\n",
       " u'time': 7,\n",
       " u'to': 112,\n",
       " u'tobago': 5,\n",
       " u'today': 7,\n",
       " u'together': 3,\n",
       " u'told': 3,\n",
       " u'too': 2,\n",
       " u'took': 4,\n",
       " u'tower': 2,\n",
       " u'towers': 1,\n",
       " u'traced': 1,\n",
       " u'transacted': 1,\n",
       " u'transparency': 3,\n",
       " u'treasury': 1,\n",
       " u'treated': 2,\n",
       " u'trinidad': 5,\n",
       " u'trust': 1,\n",
       " u'truth': 1,\n",
       " u'try': 1,\n",
       " u'trying': 2,\n",
       " u'tune': 1,\n",
       " u'tv': 1,\n",
       " u'twin': 1,\n",
       " u'two': 3,\n",
       " u'u.s': 1,\n",
       " u'under': 2,\n",
       " u'understand': 7,\n",
       " u'understanding': 2,\n",
       " u'understood': 1,\n",
       " u'united': 1,\n",
       " u'unprecedented': 3,\n",
       " u'up': 5,\n",
       " u'us': 17,\n",
       " u'use': 3,\n",
       " u'used': 1,\n",
       " u'using': 5,\n",
       " u've': 9,\n",
       " u'very': 5,\n",
       " u'walking': 2,\n",
       " u'wall': 6,\n",
       " u'want': 9,\n",
       " u'was': 39,\n",
       " u'wasted': 2,\n",
       " u'waters': 1,\n",
       " u'way': 2,\n",
       " u'we': 66,\n",
       " u'wealth': 1,\n",
       " u'website': 2,\n",
       " u'weekend': 1,\n",
       " u'well': 3,\n",
       " u'went': 3,\n",
       " u'were': 11,\n",
       " u'what': 32,\n",
       " u'whatever': 1,\n",
       " u'when': 5,\n",
       " u'where': 5,\n",
       " u'whether': 3,\n",
       " u'which': 6,\n",
       " u'who': 8,\n",
       " u'whole': 3,\n",
       " u'will': 7,\n",
       " u'with': 19,\n",
       " u'within': 2,\n",
       " u'without': 4,\n",
       " u'word': 2,\n",
       " u'words': 1,\n",
       " u'work': 8,\n",
       " u'worked': 1,\n",
       " u'working': 1,\n",
       " u'works': 1,\n",
       " u'world': 2,\n",
       " u'would': 2,\n",
       " u'writing': 1,\n",
       " u'written': 3,\n",
       " u'wrongs': 1,\n",
       " u'wrote': 2,\n",
       " u'yeah': 1,\n",
       " u'year': 2,\n",
       " u'years': 7,\n",
       " u'you': 32,\n",
       " u'young': 1,\n",
       " u'your': 6,\n",
       " u'yourself': 1,\n",
       " u'zuccotti': 1,\n",
       " u'\\u2014': 6}"
      ]
     },
     "execution_count": 331,
     "metadata": {},
     "output_type": "execute_result"
    }
   ],
   "source": [
    "dict(t.word_counts)"
   ]
  },
  {
   "cell_type": "code",
   "execution_count": 332,
   "metadata": {
    "collapsed": false
   },
   "outputs": [],
   "source": [
    "# put this in a dataframe for easy viewing and sorting\n",
    "word_count_df = pd.DataFrame.from_dict(t.word_counts, orient='index')\n",
    "word_count_df.columns = ['count']"
   ]
  },
  {
   "cell_type": "markdown",
   "metadata": {},
   "source": [
    "What are the most common words?"
   ]
  },
  {
   "cell_type": "code",
   "execution_count": 333,
   "metadata": {
    "collapsed": false
   },
   "outputs": [
    {
     "data": {
      "text/html": [
       "<div style=\"max-height:1000px;max-width:1500px;overflow:auto;\">\n",
       "<table border=\"1\" class=\"dataframe\">\n",
       "  <thead>\n",
       "    <tr style=\"text-align: right;\">\n",
       "      <th></th>\n",
       "      <th>count</th>\n",
       "    </tr>\n",
       "  </thead>\n",
       "  <tbody>\n",
       "    <tr>\n",
       "      <th>the</th>\n",
       "      <td> 175</td>\n",
       "    </tr>\n",
       "    <tr>\n",
       "      <th>and</th>\n",
       "      <td> 125</td>\n",
       "    </tr>\n",
       "    <tr>\n",
       "      <th>of</th>\n",
       "      <td> 123</td>\n",
       "    </tr>\n",
       "    <tr>\n",
       "      <th>to</th>\n",
       "      <td> 112</td>\n",
       "    </tr>\n",
       "    <tr>\n",
       "      <th>it</th>\n",
       "      <td>  79</td>\n",
       "    </tr>\n",
       "    <tr>\n",
       "      <th>in</th>\n",
       "      <td>  77</td>\n",
       "    </tr>\n",
       "    <tr>\n",
       "      <th>that</th>\n",
       "      <td>  72</td>\n",
       "    </tr>\n",
       "    <tr>\n",
       "      <th>i</th>\n",
       "      <td>  71</td>\n",
       "    </tr>\n",
       "    <tr>\n",
       "      <th>a</th>\n",
       "      <td>  69</td>\n",
       "    </tr>\n",
       "    <tr>\n",
       "      <th>we</th>\n",
       "      <td>  66</td>\n",
       "    </tr>\n",
       "  </tbody>\n",
       "</table>\n",
       "</div>"
      ],
      "text/plain": [
       "      count\n",
       "the     175\n",
       "and     125\n",
       "of      123\n",
       "to      112\n",
       "it       79\n",
       "in       77\n",
       "that     72\n",
       "i        71\n",
       "a        69\n",
       "we       66"
      ]
     },
     "execution_count": 333,
     "metadata": {},
     "output_type": "execute_result"
    }
   ],
   "source": [
    "word_count_df.sort('count', ascending=False)[:10]"
   ]
  },
  {
   "cell_type": "markdown",
   "metadata": {},
   "source": [
    "Hm. So the most common words will not tell us much about what's going on in this text.\n",
    "\n",
    "In general, the **more frequent a word** is in the english language **or** in a text, the **less important** it will likely be to us. This concept is well known in text mining, called **\"term frequency–inverse document frequency\"**. We can represent text using a tf-idf statistic to weigh how important a term is in a particular document. This statistic gives contextual weight to different terms, more accurately representing the importance of different terms of ngrams."
   ]
  },
  {
   "cell_type": "markdown",
   "metadata": {},
   "source": [
    "#### Compare two transcripts\n",
    "\n",
    "Let's look at two transcripts -"
   ]
  },
  {
   "cell_type": "code",
   "execution_count": 388,
   "metadata": {
    "collapsed": false
   },
   "outputs": [
    {
     "data": {
      "text/plain": [
       "(u'A second opinion on developmental disorders',\n",
       " u'The mothers who found forgiveness, friendship')"
      ]
     },
     "execution_count": 388,
     "metadata": {},
     "output_type": "execute_result"
    }
   ],
   "source": [
    "one = df.ix[16]\n",
    "two = df.ix[20]\n",
    "one['headline'], two['headline']"
   ]
  },
  {
   "cell_type": "code",
   "execution_count": 389,
   "metadata": {
    "collapsed": false
   },
   "outputs": [
    {
     "data": {
      "text/plain": [
       "(5799, 5341)"
      ]
     },
     "execution_count": 389,
     "metadata": {},
     "output_type": "execute_result"
    }
   ],
   "source": [
    "len(one['transcript']), len(two['transcript'])"
   ]
  },
  {
   "cell_type": "code",
   "execution_count": 390,
   "metadata": {
    "collapsed": false
   },
   "outputs": [],
   "source": [
    "one_blob = TextBlob(one['transcript'])\n",
    "two_blob = TextBlob(two['transcript'])"
   ]
  },
  {
   "cell_type": "code",
   "execution_count": 391,
   "metadata": {
    "collapsed": false
   },
   "outputs": [],
   "source": [
    "one_set = set(one_blob.tokenize())\n",
    "two_set = set(two_blob.tokenize())"
   ]
  },
  {
   "cell_type": "code",
   "execution_count": 392,
   "metadata": {
    "collapsed": false,
    "scrolled": true
   },
   "outputs": [
    {
     "data": {
      "text/plain": [
       "118"
      ]
     },
     "execution_count": 392,
     "metadata": {},
     "output_type": "execute_result"
    }
   ],
   "source": [
    "# How many words did the two talks use commonly?\n",
    "len(one_set.intersection(two_set))"
   ]
  },
  {
   "cell_type": "code",
   "execution_count": 418,
   "metadata": {
    "collapsed": false
   },
   "outputs": [
    {
     "data": {
      "text/plain": [
       "550"
      ]
     },
     "execution_count": 418,
     "metadata": {},
     "output_type": "execute_result"
    }
   ],
   "source": [
    "# How many different words did they use total?\n",
    "total_diff = len(one_set.difference(two_set)) + len(two_set.difference(one_set))\n",
    "total_diff"
   ]
  },
  {
   "cell_type": "code",
   "execution_count": 419,
   "metadata": {
    "collapsed": false
   },
   "outputs": [
    {
     "name": "stdout",
     "output_type": "stream",
     "text": [
      "Proportion of vocabulary that is common: 21.45 %\n"
     ]
    }
   ],
   "source": [
    "proportion = len(one_set.intersection(two_set)) / float(total_diff)\n",
    "print \"Proportion of vocabulary that is common:\", round(proportion, 4)*100, \"%\""
   ]
  },
  {
   "cell_type": "code",
   "execution_count": 400,
   "metadata": {
    "collapsed": false
   },
   "outputs": [
    {
     "name": "stdout",
     "output_type": "stream",
     "text": [
      "set([u'all', u'just', u'human', u'suffer', u'children', u'(', u'had', u',', u'day', u'to', u'going', u'parents', u'suffered', u'then', u'Applause', u'very', u'me', u'suffering', u'words', u'not', u'now', u'him', u'like', u'these', u'each', u'For', u'are', u'our', u'special', u'really', u\"n't\", u'what', u'still', u'for', u'find', u'told', u'be', u'we', u'knew', u'This', u'never', u'here', u'change', u'on', u'about', u'her', u'of', u'could', u'or', u'When', u'one', u'been', u'story', u'from', u'would', u'there', u'three', u'But', u'.', u'their', u'much', u'too', u':', u'was', u'tell', u'today', u'knows', u'that', u'but', u'it', u'So', u'child', u'with', u'those', u'he', u'And', u'this', u'up', u'us', u'will', u'stories', u'can', u'were', u'my', u'called', u'and', u'is', u'mind', u'mine', u'an', u'say', u'something', u'have', u'in', u'as', u'if', u')', u'six', u'when', u'other', u'which', u'you', u'out', u\"'s\", u'I', u'who', u'most', u\"'d\", u'such', u\"'m\", u'a', u'later', u'It', u'so', u'fact', u'time', u'the', u'came'])\n"
     ]
    }
   ],
   "source": [
    "print one_set.intersection(two_set)"
   ]
  },
  {
   "cell_type": "markdown",
   "metadata": {},
   "source": [
    "So what we start to see is that if we removed common words from this set, we'd see a few common themes between the two talks, but again, much of the vocabulary is common."
   ]
  },
  {
   "cell_type": "markdown",
   "metadata": {},
   "source": [
    "### Vectorizers"
   ]
  },
  {
   "cell_type": "markdown",
   "metadata": {},
   "source": [
    "Let's go back to the dataframe of **most frequently used noun phrases across transcripts**"
   ]
  },
  {
   "cell_type": "code",
   "execution_count": 259,
   "metadata": {
    "collapsed": false
   },
   "outputs": [
    {
     "data": {
      "text/html": [
       "<div style=\"max-height:1000px;max-width:1500px;overflow:auto;\">\n",
       "<table border=\"1\" class=\"dataframe\">\n",
       "  <thead>\n",
       "    <tr style=\"text-align: right;\">\n",
       "      <th></th>\n",
       "      <th>speaker</th>\n",
       "      <th>themes</th>\n",
       "    </tr>\n",
       "  </thead>\n",
       "  <tbody>\n",
       "    <tr>\n",
       "      <th>7</th>\n",
       "      <td> Abraham Verghese</td>\n",
       "      <td> [fildes, burntisland, laennec, bell, subsequen...</td>\n",
       "    </tr>\n",
       "    <tr>\n",
       "      <th>8</th>\n",
       "      <td> Achenyo Idachaba</td>\n",
       "      <td>              [water hyacinth, gbe'borun, nigeria]</td>\n",
       "    </tr>\n",
       "    <tr>\n",
       "      <th>9</th>\n",
       "      <td>    Adam Davidson</td>\n",
       "      <td> [fiscal cliff, vast majority, u.s., fiscal iss...</td>\n",
       "    </tr>\n",
       "  </tbody>\n",
       "</table>\n",
       "</div>"
      ],
      "text/plain": [
       "            speaker                                             themes\n",
       "7  Abraham Verghese  [fildes, burntisland, laennec, bell, subsequen...\n",
       "8  Achenyo Idachaba               [water hyacinth, gbe'borun, nigeria]\n",
       "9     Adam Davidson  [fiscal cliff, vast majority, u.s., fiscal iss..."
      ]
     },
     "execution_count": 259,
     "metadata": {},
     "output_type": "execute_result"
    }
   ],
   "source": [
    "themes_list = speaker_themes_df['themes'].tolist()\n",
    "speaker_themes_df[7:10]"
   ]
  },
  {
   "cell_type": "code",
   "execution_count": 322,
   "metadata": {
    "collapsed": true
   },
   "outputs": [],
   "source": [
    "# sci-kit learn is a machine learning library for python\n",
    "from sklearn.feature_extraction.text import CountVectorizer\n",
    "import numpy as np\n",
    "\n",
    "vocab = set([d for d in themes_list for d in d])\n",
    "\n",
    "# we'll just look at ngrams > 2 to see some richer topics\n",
    "cv = CountVectorizer(stop_words=None, vocabulary=vocab, ngram_range=(2, 4))"
   ]
  },
  {
   "cell_type": "code",
   "execution_count": 323,
   "metadata": {
    "collapsed": false
   },
   "outputs": [],
   "source": [
    "# going to turn these back into documents \n",
    "document_list = [','.join(t) for t in themes_list]"
   ]
  },
  {
   "cell_type": "code",
   "execution_count": 324,
   "metadata": {
    "collapsed": false
   },
   "outputs": [],
   "source": [
    "data = cv.fit_transform(document_list).toarray()"
   ]
  },
  {
   "cell_type": "markdown",
   "metadata": {},
   "source": [
    "A **vectorizer** is a method that, understandably, creates vectors from data, and ultimately a matrix. Each vector contains the incidence (in this case) of a token across all the documents (in this case, transcripts)."
   ]
  },
  {
   "cell_type": "markdown",
   "metadata": {},
   "source": [
    "**Sparsity**\n",
    "\n",
    "In text analysis, any matrix representing a set of documents against a vocabulary will be **sparse**. This is because not every word in the vocabulary occurs in every document - quite the contrary. Most of each vector is empty.\n",
    "\n",
    "<img src=\"assets/sparse_matrix.png\">"
   ]
  },
  {
   "cell_type": "code",
   "execution_count": 325,
   "metadata": {
    "collapsed": false
   },
   "outputs": [],
   "source": [
    "cv.get_feature_names() # names of features\n",
    "\n",
    "dist = np.sum(data, axis=0) \n",
    "\n",
    "counts_list = list()\n",
    "for tag, count in zip(vocab, dist):\n",
    "     counts_list.append((count, tag))"
   ]
  },
  {
   "cell_type": "markdown",
   "metadata": {},
   "source": [
    "Which themes were most common across speakers?"
   ]
  },
  {
   "cell_type": "code",
   "execution_count": 326,
   "metadata": {
    "collapsed": false
   },
   "outputs": [
    {
     "data": {
      "text/html": [
       "<div style=\"max-height:1000px;max-width:1500px;overflow:auto;\">\n",
       "<table border=\"1\" class=\"dataframe\">\n",
       "  <thead>\n",
       "    <tr style=\"text-align: right;\">\n",
       "      <th></th>\n",
       "      <th>count</th>\n",
       "      <th>feature</th>\n",
       "    </tr>\n",
       "  </thead>\n",
       "  <tbody>\n",
       "    <tr>\n",
       "      <th>670 </th>\n",
       "      <td> 14</td>\n",
       "      <td>      young people</td>\n",
       "    </tr>\n",
       "    <tr>\n",
       "      <th>2025</th>\n",
       "      <td> 10</td>\n",
       "      <td>      solar system</td>\n",
       "    </tr>\n",
       "    <tr>\n",
       "      <th>1144</th>\n",
       "      <td>  9</td>\n",
       "      <td>         good news</td>\n",
       "    </tr>\n",
       "    <tr>\n",
       "      <th>1772</th>\n",
       "      <td>  8</td>\n",
       "      <td>     breast cancer</td>\n",
       "    </tr>\n",
       "    <tr>\n",
       "      <th>211 </th>\n",
       "      <td>  7</td>\n",
       "      <td>      human beings</td>\n",
       "    </tr>\n",
       "    <tr>\n",
       "      <th>829 </th>\n",
       "      <td>  7</td>\n",
       "      <td>       high school</td>\n",
       "    </tr>\n",
       "    <tr>\n",
       "      <th>963 </th>\n",
       "      <td>  6</td>\n",
       "      <td>         long time</td>\n",
       "    </tr>\n",
       "    <tr>\n",
       "      <th>225 </th>\n",
       "      <td>  6</td>\n",
       "      <td>        cell phone</td>\n",
       "    </tr>\n",
       "    <tr>\n",
       "      <th>3456</th>\n",
       "      <td>  6</td>\n",
       "      <td>        stem cells</td>\n",
       "    </tr>\n",
       "    <tr>\n",
       "      <th>2918</th>\n",
       "      <td>  6</td>\n",
       "      <td>      social media</td>\n",
       "    </tr>\n",
       "    <tr>\n",
       "      <th>1997</th>\n",
       "      <td>  5</td>\n",
       "      <td> quantum mechanics</td>\n",
       "    </tr>\n",
       "    <tr>\n",
       "      <th>1818</th>\n",
       "      <td>  5</td>\n",
       "      <td>       health care</td>\n",
       "    </tr>\n",
       "    <tr>\n",
       "      <th>1651</th>\n",
       "      <td>  5</td>\n",
       "      <td>        real world</td>\n",
       "    </tr>\n",
       "    <tr>\n",
       "      <th>1635</th>\n",
       "      <td>  5</td>\n",
       "      <td>         death row</td>\n",
       "    </tr>\n",
       "    <tr>\n",
       "      <th>3379</th>\n",
       "      <td>  5</td>\n",
       "      <td>       dark energy</td>\n",
       "    </tr>\n",
       "    <tr>\n",
       "      <th>2916</th>\n",
       "      <td>  5</td>\n",
       "      <td>     san francisco</td>\n",
       "    </tr>\n",
       "    <tr>\n",
       "      <th>1102</th>\n",
       "      <td>  5</td>\n",
       "      <td>       video games</td>\n",
       "    </tr>\n",
       "    <tr>\n",
       "      <th>1725</th>\n",
       "      <td>  4</td>\n",
       "      <td>         world war</td>\n",
       "    </tr>\n",
       "    <tr>\n",
       "      <th>1022</th>\n",
       "      <td>  4</td>\n",
       "      <td>       world peace</td>\n",
       "    </tr>\n",
       "    <tr>\n",
       "      <th>925 </th>\n",
       "      <td>  4</td>\n",
       "      <td>       los angeles</td>\n",
       "    </tr>\n",
       "  </tbody>\n",
       "</table>\n",
       "</div>"
      ],
      "text/plain": [
       "      count            feature\n",
       "670      14       young people\n",
       "2025     10       solar system\n",
       "1144      9          good news\n",
       "1772      8      breast cancer\n",
       "211       7       human beings\n",
       "829       7        high school\n",
       "963       6          long time\n",
       "225       6         cell phone\n",
       "3456      6         stem cells\n",
       "2918      6       social media\n",
       "1997      5  quantum mechanics\n",
       "1818      5        health care\n",
       "1651      5         real world\n",
       "1635      5          death row\n",
       "3379      5        dark energy\n",
       "2916      5      san francisco\n",
       "1102      5        video games\n",
       "1725      4          world war\n",
       "1022      4        world peace\n",
       "925       4        los angeles"
      ]
     },
     "execution_count": 326,
     "metadata": {},
     "output_type": "execute_result"
    }
   ],
   "source": [
    "count_df = pd.DataFrame(counts_list, columns=['count','feature'])\n",
    "count_df.sort('count', ascending=False)[:20]"
   ]
  },
  {
   "cell_type": "markdown",
   "metadata": {},
   "source": [
    "So the common theme is - Good News!"
   ]
  },
  {
   "cell_type": "markdown",
   "metadata": {},
   "source": [
    "In Natural Language Processing, **Vectorization** is the most common way to abstract text to make it programmatically manipulable. It's your best friend once you get past document-level statistics!\n",
    "\n",
    "_Further Reading:_\n",
    "- [**Term-Frequency Inverse Document Frequency** Vectorization](https://en.wikipedia.org/wiki/Tf%E2%80%93idf)"
   ]
  },
  {
   "cell_type": "markdown",
   "metadata": {},
   "source": [
    "### Don't forget -\n",
    "\n",
    "If you don't know where to start, **just start counting things**.\n",
    "\n",
    "---"
   ]
  },
  {
   "cell_type": "code",
   "execution_count": null,
   "metadata": {
    "collapsed": true
   },
   "outputs": [],
   "source": []
  }
 ],
 "metadata": {
  "kernelspec": {
   "display_name": "Python 2",
   "language": "python",
   "name": "python2"
  },
  "language_info": {
   "codemirror_mode": {
    "name": "ipython",
    "version": 2
   },
   "file_extension": ".py",
   "mimetype": "text/x-python",
   "name": "python",
   "nbconvert_exporter": "python",
   "pygments_lexer": "ipython2",
   "version": "2.7.9"
  }
 },
 "nbformat": 4,
 "nbformat_minor": 0
}
